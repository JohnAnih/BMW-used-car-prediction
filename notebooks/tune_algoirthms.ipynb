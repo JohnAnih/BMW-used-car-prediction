{
 "cells": [
  {
   "cell_type": "markdown",
   "metadata": {},
   "source": [
    "# Import Libraries"
   ]
  },
  {
   "cell_type": "code",
   "execution_count": 1,
   "metadata": {},
   "outputs": [],
   "source": [
    "import sys\n",
    "import warnings\n",
    "from typing import List\n",
    "import numpy as np\n",
    "import pandas as pd\n",
    "import matplotlib.pyplot as plt\n",
    "import seaborn as sns\n",
    "from sklearn.ensemble import RandomForestRegressor\n",
    "from sklearn.linear_model import SGDRegressor\n",
    "from sklearn.neighbors import KNeighborsRegressor\n",
    "from xgboost import XGBRegressor\n",
    "from skopt.space import Real, Categorical, Integer\n",
    "sys.path.append(\"../src\")\n",
    "warnings.simplefilter('ignore')\n",
    "from preprocessing.load_data import load_processed\n",
    "from models.tune_models import GridSearchTuner, RandomSearchTuner, BayesianSearchTuner"
   ]
  },
  {
   "cell_type": "markdown",
   "metadata": {},
   "source": [
    "# Functions"
   ]
  },
  {
   "cell_type": "code",
   "execution_count": 2,
   "metadata": {},
   "outputs": [],
   "source": [
    "def check_param_estimate_with_model(estimator, parameter: str, parameter_values: List, metric=\"mae\", test_on_new_data=True, verbose=True):\n",
    "    parameter_grid = {parameter: parameter_values}\n",
    "    model = GridSearchTuner(data= df, estimator=estimator, params=parameter_grid, cv=5, metric=metric)\n",
    "    \n",
    "    if verbose:\n",
    "        print(\"searching for the best parameters...\")\n",
    "        best_score, best_params = model.search_best()\n",
    "        print(\"found best parameters...\")\n",
    "        print(f\"Best score: {best_score}\")\n",
    "        print(f\"Best params: {best_params}\")\n",
    "        \n",
    "    if test_on_new_data:\n",
    "        # check if model still overfits\n",
    "        print(\"Estimate of the data on a new sample data: \")\n",
    "        model.validate()\n",
    "        model.evaluate_model(\"mae\")\n",
    "    return model"
   ]
  },
  {
   "cell_type": "code",
   "execution_count": 3,
   "metadata": {},
   "outputs": [],
   "source": [
    "def plot_params(model, parameter_values: List, plot_title: str, x_label: str, y_label: str, verbose: bool = False):\n",
    "    means = model.model.cv_results_['mean_test_score']\n",
    "    stds = model.model.cv_results_['std_test_score']\n",
    "    params = model.model.cv_results_['params']\n",
    "    \n",
    "    if verbose:\n",
    "        for mean, stdev, param in zip(means, stds, params):\n",
    "            print(\"%f (%f) with: %r\" % (mean, stdev, param))\n",
    "  \n",
    "    plt.errorbar(parameter_values, means, yerr=stds)\n",
    "    plt.title(plot_title)\n",
    "    plt.xlabel(x_label)\n",
    "    plt.ylabel(y_label)\n",
    "    plt.show()"
   ]
  },
  {
   "cell_type": "markdown",
   "metadata": {},
   "source": [
    "# Data Loading"
   ]
  },
  {
   "cell_type": "code",
   "execution_count": 4,
   "metadata": {},
   "outputs": [],
   "source": [
    "df = load_processed(\"../data/bmw.csv\")"
   ]
  },
  {
   "cell_type": "markdown",
   "metadata": {},
   "source": [
    "# HyperParameter Tuning"
   ]
  },
  {
   "cell_type": "markdown",
   "metadata": {},
   "source": [
    "## Random Forest "
   ]
  },
  {
   "cell_type": "markdown",
   "metadata": {},
   "source": [
    "### Tuning with Random Sampling"
   ]
  },
  {
   "cell_type": "code",
   "execution_count": 5,
   "metadata": {},
   "outputs": [],
   "source": [
    "# define parameter search space\n",
    "n_estimators = [100, 200, 500, 750]\n",
    "max_depth = [5, 10, 20, 50, None]\n",
    "\n",
    "rf_params = {'n_estimators': n_estimators,\n",
    "               'max_depth': max_depth}"
   ]
  },
  {
   "cell_type": "code",
   "execution_count": 6,
   "metadata": {},
   "outputs": [
    {
     "name": "stdout",
     "output_type": "stream",
     "text": [
      "Best score: -2003.4551335895867\n",
      "Best params: {'n_estimators': 200, 'max_depth': 20}\n"
     ]
    }
   ],
   "source": [
    "# search for best parameters\n",
    "random_rf = RandomSearchTuner(data= df, estimator=RandomForestRegressor, params = rf_params, cv=4, n_iter=50, metric=\"mae\", n_jobs=1)\n",
    "best_score, best_params = random_rf.search_best()\n",
    "print(f\"Best score: {best_score}\")\n",
    "print(f\"Best params: {best_params}\")"
   ]
  },
  {
   "cell_type": "code",
   "execution_count": 7,
   "metadata": {},
   "outputs": [
    {
     "name": "stdout",
     "output_type": "stream",
     "text": [
      "The Train mae: 784.8855860100639\n",
      "The Test mae: 1994.0362731777757\n"
     ]
    }
   ],
   "source": [
    "# check if model still overfits\n",
    "random_rf.validate()\n",
    "random_rf.evaluate_model(\"mae\")"
   ]
  },
  {
   "cell_type": "markdown",
   "metadata": {},
   "source": [
    "### Tuning with Grid Search"
   ]
  },
  {
   "cell_type": "code",
   "execution_count": 8,
   "metadata": {},
   "outputs": [],
   "source": [
    "# create the grid for the parameters\n",
    "grid_params = {'n_estimators': [200, 250, 300, 350], 'max_depth': [20, 35, 45]}"
   ]
  },
  {
   "cell_type": "code",
   "execution_count": 9,
   "metadata": {},
   "outputs": [
    {
     "name": "stdout",
     "output_type": "stream",
     "text": [
      "Best score: -2004.525473142557\n",
      "Best params: {'max_depth': 20, 'n_estimators': 250}\n"
     ]
    }
   ],
   "source": [
    "grid_rf = GridSearchTuner(data= df, estimator=RandomForestRegressor, params = grid_params, cv=4, metric=\"mae\")\n",
    "best_score, best_params = grid_rf.search_best()\n",
    "print(f\"Best score: {best_score}\")\n",
    "print(f\"Best params: {best_params}\")"
   ]
  },
  {
   "cell_type": "code",
   "execution_count": 10,
   "metadata": {},
   "outputs": [
    {
     "name": "stdout",
     "output_type": "stream",
     "text": [
      "The Train mae: 781.9009185293344\n",
      "The Test mae: 1984.2777404408762\n"
     ]
    }
   ],
   "source": [
    "# check if model still overfits\n",
    "grid_rf.validate()\n",
    "grid_rf.evaluate_model(\"mae\")"
   ]
  },
  {
   "cell_type": "markdown",
   "metadata": {},
   "source": [
    "### Tuning with Bayesian Search"
   ]
  },
  {
   "cell_type": "code",
   "execution_count": 11,
   "metadata": {},
   "outputs": [],
   "source": [
    "# define the search space for the parameters\n",
    "search_params = {\n",
    "     'n_estimators': Integer(200,400),\n",
    "     'max_depth': Integer(20, 200),\n",
    "    'min_samples_leaf': Integer(1, 20),\n",
    "    'min_samples_split': Integer(2, 20)\n",
    "      }"
   ]
  },
  {
   "cell_type": "code",
   "execution_count": 12,
   "metadata": {},
   "outputs": [
    {
     "name": "stdout",
     "output_type": "stream",
     "text": [
      "Best score: -1982.531406440241\n",
      "Best params: OrderedDict([('max_depth', 20), ('min_samples_leaf', 1), ('min_samples_split', 5), ('n_estimators', 400)])\n"
     ]
    }
   ],
   "source": [
    "bayes_rf = BayesianSearchTuner(data= df, estimator=RandomForestRegressor, params = search_params, cv=5, n_iter=100, metric=\"mae\")\n",
    "best_score, best_params = bayes_rf.search_best()\n",
    "print(f\"Best score: {best_score}\")\n",
    "print(f\"Best params: {best_params}\")"
   ]
  },
  {
   "cell_type": "code",
   "execution_count": 13,
   "metadata": {},
   "outputs": [
    {
     "name": "stdout",
     "output_type": "stream",
     "text": [
      "The Train mae: 1036.7342301101246\n",
      "The Test mae: 1975.7707397146223\n"
     ]
    }
   ],
   "source": [
    "bayes_rf.validate()\n",
    "bayes_rf.evaluate_model(\"mae\")"
   ]
  },
  {
   "cell_type": "markdown",
   "metadata": {},
   "source": [
    "## XgBoost"
   ]
  },
  {
   "cell_type": "markdown",
   "metadata": {},
   "source": [
    "### Tuning with Random Sampling"
   ]
  },
  {
   "cell_type": "code",
   "execution_count": 14,
   "metadata": {},
   "outputs": [],
   "source": [
    "# define the parameter search space for XgBoost\n",
    "n_estimators = [100, 200, 500]\n",
    "max_depth = [1, 3, 5, 7, 9]\n",
    "learning_rate = [0.001, 0.01, 0.1, 0.2, 0.3]\n",
    "subsample = [0.1, 0.5, 0.7, 1.0]\n",
    "colsample_bytree = [0.1, 0.4, 0.5, 0.8, 1.0]\n",
    "reg_alpha = [0.001, 0.01, 0.1, 1.0, 2.0]\n",
    "reg_lambda = [0.001, 0.01, 0.1, 1.0, 2.0]\n",
    "\n",
    "            \n",
    "xgb_params = {'n_estimators': n_estimators,\n",
    "             'max_depth': max_depth,\n",
    "             'learning_rate': learning_rate,\n",
    "             'subsample': subsample,\n",
    "             'colsample_bytree': colsample_bytree,\n",
    "             'reg_alpha': reg_alpha,\n",
    "              'reg_lambda': reg_lambda\n",
    "             }"
   ]
  },
  {
   "cell_type": "code",
   "execution_count": 15,
   "metadata": {},
   "outputs": [
    {
     "name": "stdout",
     "output_type": "stream",
     "text": [
      "Best score: -1983.4095718842739\n",
      "Best params: {'subsample': 1.0, 'reg_lambda': 0.001, 'reg_alpha': 0.001, 'n_estimators': 100, 'max_depth': 9, 'learning_rate': 0.2, 'colsample_bytree': 0.4}\n"
     ]
    }
   ],
   "source": [
    "# find the best hyperparameters\n",
    "random_xgb = RandomSearchTuner(data= df, estimator=XGBRegressor, params = xgb_params, cv=4, n_iter=50, metric=\"mae\")\n",
    "best_score, best_params = random_xgb.search_best()\n",
    "print(f\"Best score: {best_score}\")\n",
    "print(f\"Best params: {best_params}\")"
   ]
  },
  {
   "cell_type": "code",
   "execution_count": 16,
   "metadata": {},
   "outputs": [
    {
     "name": "stdout",
     "output_type": "stream",
     "text": [
      "The Train mae: 984.9749992673164\n",
      "The Test mae: 1948.0504411244392\n"
     ]
    }
   ],
   "source": [
    "# check if the model overfits\n",
    "random_xgb.validate()\n",
    "random_xgb.evaluate_model(\"mae\")"
   ]
  },
  {
   "cell_type": "markdown",
   "metadata": {},
   "source": [
    "### Tuning with Grid Search"
   ]
  },
  {
   "cell_type": "markdown",
   "metadata": {},
   "source": [
    "#### Tune number of trees"
   ]
  },
  {
   "cell_type": "code",
   "execution_count": 38,
   "metadata": {},
   "outputs": [
    {
     "name": "stdout",
     "output_type": "stream",
     "text": [
      "searching for the best parameters...\n",
      "found best parameters...\n",
      "Best score: -1974.408368193166\n",
      "Best params: {'n_estimators': 100}\n",
      "Estimate of the data on a new sample data: \n",
      "The Train mae: 1301.3295352359294\n",
      "The Test mae: 1992.4261409759522\n"
     ]
    }
   ],
   "source": [
    "parameter_values=[100, 150, 300, 350, 500, 1000]\n",
    "grid_xgb = check_param_estimate_with_model(estimator=XGBRegressor, parameter='n_estimators', parameter_values=parameter_values)"
   ]
  },
  {
   "cell_type": "code",
   "execution_count": 39,
   "metadata": {},
   "outputs": [
    {
     "data": {
      "image/png": "[encoded data removed]",
      "text/plain": [
       "<Figure size 432x288 with 1 Axes>"
      ]
     },
     "metadata": {
      "needs_background": "light"
     },
     "output_type": "display_data"
    }
   ],
   "source": [
    "plot_params(model=grid_xgb, parameter_values=parameter_values, plot_title=\"XGB Boost number trees vs MAE\", x_label=\"n_estimators\", y_label=\"MAE\", verbose=False)"
   ]
  },
  {
   "cell_type": "markdown",
   "metadata": {},
   "source": [
    "#### Tune max_dept"
   ]
  },
  {
   "cell_type": "code",
   "execution_count": 40,
   "metadata": {},
   "outputs": [
    {
     "name": "stdout",
     "output_type": "stream",
     "text": [
      "searching for the best parameters...\n",
      "found best parameters...\n",
      "Best score: -2003.3385546799243\n",
      "Best params: {'max_depth': 7}\n",
      "Estimate of the data on a new sample data: \n",
      "The Train mae: 1030.6888174729588\n",
      "The Test mae: 1976.485633544922\n"
     ]
    }
   ],
   "source": [
    "parameter_values=[1, 3, 5, 7, 9, 12, 15, 25]\n",
    "grid_xgb = check_param_estimate_with_model(estimator=XGBRegressor, parameter='max_depth', parameter_values=parameter_values)"
   ]
  },
  {
   "cell_type": "code",
   "execution_count": 41,
   "metadata": {},
   "outputs": [
    {
     "data": {
      "image/png": "[encoded data removed]",
      "text/plain": [
       "<Figure size 432x288 with 1 Axes>"
      ]
     },
     "metadata": {
      "needs_background": "light"
     },
     "output_type": "display_data"
    }
   ],
   "source": [
    "plot_params(model=grid_xgb, parameter_values=parameter_values, plot_title=\"XGBoost max_depth vs MAE\", x_label=\"max_depth\", y_label=\"MAE\", verbose=False)"
   ]
  },
  {
   "cell_type": "markdown",
   "metadata": {},
   "source": [
    "#### Tune number of learning_rate"
   ]
  },
  {
   "cell_type": "code",
   "execution_count": 42,
   "metadata": {},
   "outputs": [
    {
     "name": "stdout",
     "output_type": "stream",
     "text": [
      "searching for the best parameters...\n",
      "found best parameters...\n",
      "Best score: -1947.1641863293523\n",
      "Best params: {'learning_rate': 0.2}\n",
      "Estimate of the data on a new sample data: \n",
      "The Train mae: 1407.2512193293433\n",
      "The Test mae: 1983.888861656189\n"
     ]
    }
   ],
   "source": [
    "parameter_values=[0.001, 0.01, 0.1, 0.2, 0.25, 0.3, 0.4, 0.6, 0.8, 0.9, 1, 2]\n",
    "grid_xgb = check_param_estimate_with_model(estimator=XGBRegressor, parameter='learning_rate', parameter_values=parameter_values)"
   ]
  },
  {
   "cell_type": "code",
   "execution_count": 43,
   "metadata": {},
   "outputs": [
    {
     "data": {
      "image/png": "[encoded data removed]",
      "text/plain": [
       "<Figure size 432x288 with 1 Axes>"
      ]
     },
     "metadata": {
      "needs_background": "light"
     },
     "output_type": "display_data"
    }
   ],
   "source": [
    "plot_params(model=grid_xgb, parameter_values=parameter_values, plot_title=\"XGBoost learning_rate vs MAE\", x_label=\"learning_rate\", y_label=\"MAE\", verbose=False)"
   ]
  },
  {
   "cell_type": "markdown",
   "metadata": {},
   "source": [
    "#### Tune number of subsample"
   ]
  },
  {
   "cell_type": "code",
   "execution_count": 44,
   "metadata": {},
   "outputs": [
    {
     "name": "stdout",
     "output_type": "stream",
     "text": [
      "searching for the best parameters...\n",
      "found best parameters...\n",
      "Best score: -1974.408368193166\n",
      "Best params: {'subsample': 1.0}\n",
      "Estimate of the data on a new sample data: \n",
      "The Train mae: 1301.3295352359294\n",
      "The Test mae: 1992.4261409759522\n"
     ]
    }
   ],
   "source": [
    "parameter_values=[0.1, 0.2, 0.3, 0.4, 0.5, 0.6, 0.7, 0.8, 0.9, 1.0]\n",
    "grid_xgb = check_param_estimate_with_model(estimator=XGBRegressor, parameter='subsample', parameter_values=parameter_values)"
   ]
  },
  {
   "cell_type": "code",
   "execution_count": 45,
   "metadata": {},
   "outputs": [
    {
     "data": {
      "image/png": "[encoded data removed]",
      "text/plain": [
       "<Figure size 432x288 with 1 Axes>"
      ]
     },
     "metadata": {
      "needs_background": "light"
     },
     "output_type": "display_data"
    }
   ],
   "source": [
    "plot_params(model=grid_xgb, parameter_values=parameter_values, plot_title=\"XGBoost subsample vs MAE\", x_label=\"subsample\", y_label=\"MAE\", verbose=False)"
   ]
  },
  {
   "cell_type": "markdown",
   "metadata": {},
   "source": [
    "#### Tune number of colsample_bytree"
   ]
  },
  {
   "cell_type": "code",
   "execution_count": 46,
   "metadata": {},
   "outputs": [
    {
     "name": "stdout",
     "output_type": "stream",
     "text": [
      "searching for the best parameters...\n",
      "found best parameters...\n",
      "Best score: -1958.8220248758003\n",
      "Best params: {'colsample_bytree': 0.5}\n",
      "Estimate of the data on a new sample data: \n",
      "The Train mae: 1427.6665895509057\n",
      "The Test mae: 1933.7288755562902\n"
     ]
    }
   ],
   "source": [
    "parameter_values=[0.1, 0.2, 0.3, 0.4, 0.5, 0.6, 0.7, 0.8, 0.9, 1.0]\n",
    "grid_xgb = check_param_estimate_with_model(estimator=XGBRegressor, parameter='colsample_bytree', parameter_values=parameter_values)"
   ]
  },
  {
   "cell_type": "code",
   "execution_count": 47,
   "metadata": {},
   "outputs": [
    {
     "data": {
      "image/png": "[encoded data removed]",
      "text/plain": [
       "<Figure size 432x288 with 1 Axes>"
      ]
     },
     "metadata": {
      "needs_background": "light"
     },
     "output_type": "display_data"
    }
   ],
   "source": [
    "plot_params(model=grid_xgb, parameter_values=parameter_values, plot_title=\"XGBoost colsample_bytree vs MAE\", x_label=\"colsample_bytree\", y_label=\"MAE\", verbose=False)"
   ]
  },
  {
   "cell_type": "markdown",
   "metadata": {},
   "source": [
    "#### Tune number of reg_alpha"
   ]
  },
  {
   "cell_type": "code",
   "execution_count": 48,
   "metadata": {},
   "outputs": [
    {
     "name": "stdout",
     "output_type": "stream",
     "text": [
      "searching for the best parameters...\n",
      "found best parameters...\n",
      "Best score: -1966.661934348273\n",
      "Best params: {'reg_alpha': 1.0}\n",
      "Estimate of the data on a new sample data: \n",
      "The Train mae: 1269.9383286520087\n",
      "The Test mae: 1990.061407737732\n"
     ]
    }
   ],
   "source": [
    "parameter_values=[0.0001, 0.001, 0.01, 0.1, 1.0, 2.0, 5.0, 10.0]\n",
    "grid_xgb = check_param_estimate_with_model(estimator=XGBRegressor, parameter='reg_alpha', parameter_values=parameter_values)"
   ]
  },
  {
   "cell_type": "code",
   "execution_count": 49,
   "metadata": {},
   "outputs": [
    {
     "data": {
      "image/png": "[encoded data removed]",
      "text/plain": [
       "<Figure size 432x288 with 1 Axes>"
      ]
     },
     "metadata": {
      "needs_background": "light"
     },
     "output_type": "display_data"
    }
   ],
   "source": [
    "plot_params(model=grid_xgb, parameter_values=parameter_values, plot_title=\"XGBoost reg_alpha vs MAE\", x_label=\"reg_alpha\", y_label=\"MAE\", verbose=False)"
   ]
  },
  {
   "cell_type": "markdown",
   "metadata": {},
   "source": [
    "#### Tune number of reg_lambda"
   ]
  },
  {
   "cell_type": "code",
   "execution_count": 50,
   "metadata": {},
   "outputs": [
    {
     "name": "stdout",
     "output_type": "stream",
     "text": [
      "searching for the best parameters...\n",
      "found best parameters...\n",
      "Best score: -1974.408368193166\n",
      "Best params: {'reg_lambda': 1.0}\n",
      "Estimate of the data on a new sample data: \n",
      "The Train mae: 1301.3295352359294\n",
      "The Test mae: 1992.4261409759522\n"
     ]
    }
   ],
   "source": [
    "parameter_values=[0.0001, 0.001, 0.01, 0.1, 1.0, 2.0, 5.0, 10.0]\n",
    "grid_xgb = check_param_estimate_with_model(estimator=XGBRegressor, parameter='reg_lambda', parameter_values=parameter_values)"
   ]
  },
  {
   "cell_type": "code",
   "execution_count": 51,
   "metadata": {},
   "outputs": [
    {
     "data": {
      "image/png": "[encoded data removed]",
      "text/plain": [
       "<Figure size 432x288 with 1 Axes>"
      ]
     },
     "metadata": {
      "needs_background": "light"
     },
     "output_type": "display_data"
    }
   ],
   "source": [
    "plot_params(model=grid_xgb, parameter_values=parameter_values, plot_title=\"XGBoost reg_lambda vs MAE\", x_label=\"reg_lambda\", y_label=\"MAE\", verbose=False)"
   ]
  },
  {
   "cell_type": "markdown",
   "metadata": {},
   "source": [
    "#### XGBoost -> Test all BEST combinations for sanity check"
   ]
  },
  {
   "cell_type": "code",
   "execution_count": 52,
   "metadata": {},
   "outputs": [
    {
     "name": "stdout",
     "output_type": "stream",
     "text": [
      "The Train mae: 1365.8734383864162\n",
      "The Test mae: 1904.9824111557007\n"
     ]
    }
   ],
   "source": [
    "# Test all possible combinations\n",
    "from models.estimators import XGBoostRegressor\n",
    "xgb = XGBoostRegressor(df, colsample_bytree=0.5, subsample=1.0, learning_rate=0.2, max_depth=7, n_estimators=100)\n",
    "xgb.train()\n",
    "xgb.validate()\n",
    "xgb.evaluate_model(metric=\"mae\")"
   ]
  },
  {
   "cell_type": "markdown",
   "metadata": {},
   "source": [
    "### Tuning with Bayesian Search"
   ]
  },
  {
   "cell_type": "code",
   "execution_count": 53,
   "metadata": {},
   "outputs": [],
   "source": [
    "refined_params = {\"colsample_bytree\": Real(0.4, 1), \"subsample\": Real(0.4, 1), \"learning_rate\": Real(0.01, 1), \"max_dept\": Integer(3,15), \"n_estimators\": Integer(100,300)}"
   ]
  },
  {
   "cell_type": "code",
   "execution_count": 54,
   "metadata": {},
   "outputs": [
    {
     "name": "stdout",
     "output_type": "stream",
     "text": [
      "Best score: -1884.5857995821348\n",
      "Best params: OrderedDict([('colsample_bytree', 0.6245078326379802), ('learning_rate', 0.07702990702840093), ('max_dept', 15), ('n_estimators', 300), ('subsample', 0.8416508000885121)])\n"
     ]
    }
   ],
   "source": [
    "# search best params\n",
    "bayes_xgb = BayesianSearchTuner(data= df, estimator=XGBRegressor, params = refined_params, cv=5, n_iter=100, metric=\"mae\", verbosity = 0)\n",
    "best_score, best_params = bayes_xgb.search_best()\n",
    "print(f\"Best score: {best_score}\")\n",
    "print(f\"Best params: {best_params}\")"
   ]
  },
  {
   "cell_type": "code",
   "execution_count": 55,
   "metadata": {},
   "outputs": [
    {
     "name": "stdout",
     "output_type": "stream",
     "text": [
      "The Train mae: 1411.8353786325404\n",
      "The Test mae: 1941.668847427368\n"
     ]
    }
   ],
   "source": [
    "bayes_xgb.validate()\n",
    "bayes_xgb.evaluate_model(\"mae\")"
   ]
  },
  {
   "cell_type": "markdown",
   "metadata": {},
   "source": [
    "# Conclusion\n",
    "- \n",
    "- \n",
    "- \n",
    "- "
   ]
  },
  {
   "cell_type": "code",
   "execution_count": null,
   "metadata": {},
   "outputs": [],
   "source": []
  }
 ],
 "metadata": {
  "kernelspec": {
   "display_name": "Python 3",
   "language": "python",
   "name": "python3"
  },
  "language_info": {
   "codemirror_mode": {
    "name": "ipython",
    "version": 3
   },
   "file_extension": ".py",
   "mimetype": "text/x-python",
   "name": "python",
   "nbconvert_exporter": "python",
   "pygments_lexer": "ipython3",
   "version": "3.7.4"
  }
 },
 "nbformat": 4,
 "nbformat_minor": 4
}
