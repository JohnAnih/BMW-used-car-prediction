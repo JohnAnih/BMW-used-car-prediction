{
 "cells": [
  {
   "cell_type": "markdown",
   "metadata": {},
   "source": [
    "# Import Libraries "
   ]
  },
  {
   "cell_type": "code",
   "execution_count": 1,
   "metadata": {},
   "outputs": [],
   "source": [
    "import sys\n",
    "import warnings\n",
    "import pandas as pd\n",
    "import matplotlib.pyplot as plt\n",
    "sys.path.append(\"../src\")\n",
    "warnings.simplefilter('ignore')\n",
    "from preprocessing.load_data import load_processed\n",
    "import models.compare_models as cm"
   ]
  },
  {
   "cell_type": "markdown",
   "metadata": {},
   "source": [
    "# Load Data"
   ]
  },
  {
   "cell_type": "code",
   "execution_count": 2,
   "metadata": {},
   "outputs": [],
   "source": [
    "df = load_processed(\"../data/bmw.csv\")"
   ]
  },
  {
   "cell_type": "code",
   "execution_count": 3,
   "metadata": {},
   "outputs": [
    {
     "data": {
      "text/html": [
       "<div>\n",
       "<style scoped>\n",
       "    .dataframe tbody tr th:only-of-type {\n",
       "        vertical-align: middle;\n",
       "    }\n",
       "\n",
       "    .dataframe tbody tr th {\n",
       "        vertical-align: top;\n",
       "    }\n",
       "\n",
       "    .dataframe thead th {\n",
       "        text-align: right;\n",
       "    }\n",
       "</style>\n",
       "<table border=\"1\" class=\"dataframe\">\n",
       "  <thead>\n",
       "    <tr style=\"text-align: right;\">\n",
       "      <th></th>\n",
       "      <th>price</th>\n",
       "      <th>transmission</th>\n",
       "      <th>mileage</th>\n",
       "      <th>fueltype</th>\n",
       "      <th>tax</th>\n",
       "      <th>mpg</th>\n",
       "      <th>car_age</th>\n",
       "      <th>engine_class</th>\n",
       "      <th>model_type</th>\n",
       "    </tr>\n",
       "  </thead>\n",
       "  <tbody>\n",
       "    <tr>\n",
       "      <td>0</td>\n",
       "      <td>11200</td>\n",
       "      <td>Automatic</td>\n",
       "      <td>67068</td>\n",
       "      <td>Diesel</td>\n",
       "      <td>125</td>\n",
       "      <td>57.6</td>\n",
       "      <td>7</td>\n",
       "      <td>1.0 to 2.0-litres Engine</td>\n",
       "      <td>series_model</td>\n",
       "    </tr>\n",
       "    <tr>\n",
       "      <td>1</td>\n",
       "      <td>27000</td>\n",
       "      <td>Automatic</td>\n",
       "      <td>14827</td>\n",
       "      <td>Petrol</td>\n",
       "      <td>145</td>\n",
       "      <td>42.8</td>\n",
       "      <td>3</td>\n",
       "      <td>1.0 to 2.0-litres Engine</td>\n",
       "      <td>series_model</td>\n",
       "    </tr>\n",
       "    <tr>\n",
       "      <td>2</td>\n",
       "      <td>16000</td>\n",
       "      <td>Automatic</td>\n",
       "      <td>62794</td>\n",
       "      <td>Diesel</td>\n",
       "      <td>160</td>\n",
       "      <td>51.4</td>\n",
       "      <td>5</td>\n",
       "      <td>2.1 to 3.0-litres Engine</td>\n",
       "      <td>series_model</td>\n",
       "    </tr>\n",
       "    <tr>\n",
       "      <td>3</td>\n",
       "      <td>12750</td>\n",
       "      <td>Automatic</td>\n",
       "      <td>26676</td>\n",
       "      <td>Diesel</td>\n",
       "      <td>145</td>\n",
       "      <td>72.4</td>\n",
       "      <td>4</td>\n",
       "      <td>1.0 to 2.0-litres Engine</td>\n",
       "      <td>series_model</td>\n",
       "    </tr>\n",
       "    <tr>\n",
       "      <td>4</td>\n",
       "      <td>14500</td>\n",
       "      <td>Automatic</td>\n",
       "      <td>39554</td>\n",
       "      <td>Diesel</td>\n",
       "      <td>160</td>\n",
       "      <td>50.4</td>\n",
       "      <td>7</td>\n",
       "      <td>2.1 to 3.0-litres Engine</td>\n",
       "      <td>series_model</td>\n",
       "    </tr>\n",
       "    <tr>\n",
       "      <td>...</td>\n",
       "      <td>...</td>\n",
       "      <td>...</td>\n",
       "      <td>...</td>\n",
       "      <td>...</td>\n",
       "      <td>...</td>\n",
       "      <td>...</td>\n",
       "      <td>...</td>\n",
       "      <td>...</td>\n",
       "      <td>...</td>\n",
       "    </tr>\n",
       "    <tr>\n",
       "      <td>10776</td>\n",
       "      <td>19000</td>\n",
       "      <td>Automatic</td>\n",
       "      <td>40818</td>\n",
       "      <td>Diesel</td>\n",
       "      <td>150</td>\n",
       "      <td>54.3</td>\n",
       "      <td>5</td>\n",
       "      <td>1.0 to 2.0-litres Engine</td>\n",
       "      <td>x_model</td>\n",
       "    </tr>\n",
       "    <tr>\n",
       "      <td>10777</td>\n",
       "      <td>14600</td>\n",
       "      <td>Automatic</td>\n",
       "      <td>42947</td>\n",
       "      <td>Diesel</td>\n",
       "      <td>125</td>\n",
       "      <td>60.1</td>\n",
       "      <td>5</td>\n",
       "      <td>1.0 to 2.0-litres Engine</td>\n",
       "      <td>series_model</td>\n",
       "    </tr>\n",
       "    <tr>\n",
       "      <td>10778</td>\n",
       "      <td>13100</td>\n",
       "      <td>Manual</td>\n",
       "      <td>25468</td>\n",
       "      <td>Petrol</td>\n",
       "      <td>200</td>\n",
       "      <td>42.8</td>\n",
       "      <td>4</td>\n",
       "      <td>1.0 to 2.0-litres Engine</td>\n",
       "      <td>series_model</td>\n",
       "    </tr>\n",
       "    <tr>\n",
       "      <td>10779</td>\n",
       "      <td>9930</td>\n",
       "      <td>Automatic</td>\n",
       "      <td>45000</td>\n",
       "      <td>Diesel</td>\n",
       "      <td>30</td>\n",
       "      <td>64.2</td>\n",
       "      <td>7</td>\n",
       "      <td>1.0 to 2.0-litres Engine</td>\n",
       "      <td>series_model</td>\n",
       "    </tr>\n",
       "    <tr>\n",
       "      <td>10780</td>\n",
       "      <td>15981</td>\n",
       "      <td>Automatic</td>\n",
       "      <td>59432</td>\n",
       "      <td>Diesel</td>\n",
       "      <td>125</td>\n",
       "      <td>57.6</td>\n",
       "      <td>4</td>\n",
       "      <td>1.0 to 2.0-litres Engine</td>\n",
       "      <td>x_model</td>\n",
       "    </tr>\n",
       "  </tbody>\n",
       "</table>\n",
       "<p>10664 rows × 9 columns</p>\n",
       "</div>"
      ],
      "text/plain": [
       "       price transmission  mileage fueltype  tax   mpg  car_age  \\\n",
       "0      11200    Automatic    67068   Diesel  125  57.6        7   \n",
       "1      27000    Automatic    14827   Petrol  145  42.8        3   \n",
       "2      16000    Automatic    62794   Diesel  160  51.4        5   \n",
       "3      12750    Automatic    26676   Diesel  145  72.4        4   \n",
       "4      14500    Automatic    39554   Diesel  160  50.4        7   \n",
       "...      ...          ...      ...      ...  ...   ...      ...   \n",
       "10776  19000    Automatic    40818   Diesel  150  54.3        5   \n",
       "10777  14600    Automatic    42947   Diesel  125  60.1        5   \n",
       "10778  13100       Manual    25468   Petrol  200  42.8        4   \n",
       "10779   9930    Automatic    45000   Diesel   30  64.2        7   \n",
       "10780  15981    Automatic    59432   Diesel  125  57.6        4   \n",
       "\n",
       "                   engine_class    model_type  \n",
       "0      1.0 to 2.0-litres Engine  series_model  \n",
       "1      1.0 to 2.0-litres Engine  series_model  \n",
       "2      2.1 to 3.0-litres Engine  series_model  \n",
       "3      1.0 to 2.0-litres Engine  series_model  \n",
       "4      2.1 to 3.0-litres Engine  series_model  \n",
       "...                         ...           ...  \n",
       "10776  1.0 to 2.0-litres Engine       x_model  \n",
       "10777  1.0 to 2.0-litres Engine  series_model  \n",
       "10778  1.0 to 2.0-litres Engine  series_model  \n",
       "10779  1.0 to 2.0-litres Engine  series_model  \n",
       "10780  1.0 to 2.0-litres Engine       x_model  \n",
       "\n",
       "[10664 rows x 9 columns]"
      ]
     },
     "execution_count": 3,
     "metadata": {},
     "output_type": "execute_result"
    }
   ],
   "source": [
    "df"
   ]
  },
  {
   "cell_type": "code",
   "execution_count": 4,
   "metadata": {},
   "outputs": [
    {
     "data": {
      "image/png": "[encoded data removed]",
      "text/plain": [
       "<Figure size 432x288 with 1 Axes>"
      ]
     },
     "metadata": {
      "needs_background": "light"
     },
     "output_type": "display_data"
    }
   ],
   "source": [
    "df.price.hist()\n",
    "plt.show();"
   ]
  },
  {
   "cell_type": "code",
   "execution_count": 5,
   "metadata": {},
   "outputs": [
    {
     "name": "stdout",
     "output_type": "stream",
     "text": [
      "<class 'pandas.core.frame.DataFrame'>\n",
      "Int64Index: 10664 entries, 0 to 10780\n",
      "Data columns (total 9 columns):\n",
      "price           10664 non-null int64\n",
      "transmission    10664 non-null object\n",
      "mileage         10664 non-null int64\n",
      "fueltype        10664 non-null object\n",
      "tax             10664 non-null int64\n",
      "mpg             10664 non-null float64\n",
      "car_age         10664 non-null int64\n",
      "engine_class    10664 non-null category\n",
      "model_type      10664 non-null object\n",
      "dtypes: category(1), float64(1), int64(4), object(3)\n",
      "memory usage: 760.4+ KB\n"
     ]
    }
   ],
   "source": [
    "df.info()"
   ]
  },
  {
   "cell_type": "markdown",
   "metadata": {},
   "source": [
    "# Compare ML Algorithms "
   ]
  },
  {
   "cell_type": "code",
   "execution_count": 6,
   "metadata": {},
   "outputs": [],
   "source": [
    "compare_models = cm.CompareMLBaseline(df)"
   ]
  },
  {
   "cell_type": "code",
   "execution_count": 7,
   "metadata": {},
   "outputs": [
    {
     "name": "stdout",
     "output_type": "stream",
     "text": [
      "LR: 4256.964081 (269.014638)\n",
      "LASSO: 4256.703082 (269.159066)\n",
      "RIDGE: 4256.842315 (269.047933)\n",
      "EN: 4393.043647 (498.845305)\n",
      "KNN: 2302.746953 (416.305158)\n",
      "RF: 2020.689107 (389.797601)\n",
      "SGD: 4243.360933 (276.808515)\n",
      "XGBOOST: 1977.162091 (387.135255)\n",
      "SVM: 13871.257381 (3577.420932)\n"
     ]
    }
   ],
   "source": [
    "compare_models.evaluate_models(verbose=True, metric=\"mae\")"
   ]
  },
  {
   "cell_type": "code",
   "execution_count": 8,
   "metadata": {},
   "outputs": [
    {
     "data": {
      "image/png": "[encoded data removed]",
      "text/plain": [
       "<Figure size 1080x720 with 1 Axes>"
      ]
     },
     "metadata": {
      "needs_background": "light"
     },
     "output_type": "display_data"
    }
   ],
   "source": [
    "compare_models.plot_comparison()"
   ]
  },
  {
   "cell_type": "code",
   "execution_count": 9,
   "metadata": {},
   "outputs": [
    {
     "name": "stdout",
     "output_type": "stream",
     "text": [
      "LR: 36827181.761724 (6326614.377383)\n",
      "LASSO: 36821293.286955 (6325363.600845)\n",
      "RIDGE: 36822047.258598 (6322192.636415)\n",
      "EN: 41796006.898146 (11873217.150763)\n",
      "KNN: 14009848.730775 (5199579.770333)\n",
      "RF: 10465368.251283 (4799622.785548)\n",
      "SGD: 36806250.631014 (6430880.568535)\n",
      "XGBOOST: 10061427.550564 (4861074.980366)\n",
      "SVM: 303854318.348620 (121944100.267008)\n"
     ]
    }
   ],
   "source": [
    "compare_models.evaluate_models(verbose=True, metric=\"mse\")"
   ]
  },
  {
   "cell_type": "code",
   "execution_count": 10,
   "metadata": {},
   "outputs": [
    {
     "data": {
      "image/png": "[encoded data removed]",
      "text/plain": [
       "<Figure size 1080x720 with 1 Axes>"
      ]
     },
     "metadata": {
      "needs_background": "light"
     },
     "output_type": "display_data"
    }
   ],
   "source": [
    "compare_models.plot_comparison()"
   ]
  },
  {
   "cell_type": "code",
   "execution_count": 11,
   "metadata": {},
   "outputs": [
    {
     "name": "stdout",
     "output_type": "stream",
     "text": [
      "LR: 6045.912442 (523.569005)\n",
      "LASSO: 6045.426086 (523.561578)\n",
      "RIDGE: 6045.512038 (523.289077)\n",
      "EN: 6394.366924 (952.931548)\n",
      "KNN: 3672.275677 (724.044255)\n",
      "RF: 3157.300321 (762.685343)\n",
      "SGD: 6060.327546 (523.367943)\n",
      "XGBOOST: 3076.488120 (772.430191)\n",
      "SVM: 17012.696774 (3786.192996)\n"
     ]
    }
   ],
   "source": [
    "compare_models.evaluate_models(verbose=True, metric=\"rmse\")"
   ]
  },
  {
   "cell_type": "code",
   "execution_count": 12,
   "metadata": {},
   "outputs": [
    {
     "data": {
      "image/png": "[encoded data removed]",
      "text/plain": [
       "<Figure size 1080x720 with 1 Axes>"
      ]
     },
     "metadata": {
      "needs_background": "light"
     },
     "output_type": "display_data"
    }
   ],
   "source": [
    "compare_models.plot_comparison()"
   ]
  },
  {
   "cell_type": "markdown",
   "metadata": {},
   "source": [
    "# Conclusion\n",
    "- SVM seem to perform the least so therefore will be discarded\n",
    "- The following models are selected for further investigation: XgBoost, KNN and RF"
   ]
  },
  {
   "cell_type": "code",
   "execution_count": null,
   "metadata": {},
   "outputs": [],
   "source": []
  }
 ],
 "metadata": {
  "kernelspec": {
   "display_name": "Python 3",
   "language": "python",
   "name": "python3"
  },
  "language_info": {
   "codemirror_mode": {
    "name": "ipython",
    "version": 3
   },
   "file_extension": ".py",
   "mimetype": "text/x-python",
   "name": "python",
   "nbconvert_exporter": "python",
   "pygments_lexer": "ipython3",
   "version": "3.7.4"
  }
 },
 "nbformat": 4,
 "nbformat_minor": 4
}
